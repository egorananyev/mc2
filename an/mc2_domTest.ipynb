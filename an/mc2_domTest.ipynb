{
 "cells": [
  {
   "cell_type": "code",
   "execution_count": 1,
   "metadata": {
    "collapsed": true
   },
   "outputs": [],
   "source": [
    "# Behavioural analysis"
   ]
  },
  {
   "cell_type": "markdown",
   "metadata": {},
   "source": [
    "## Preparing the data"
   ]
  },
  {
   "cell_type": "code",
   "execution_count": 2,
   "metadata": {
    "collapsed": false
   },
   "outputs": [
    {
     "name": "stderr",
     "output_type": "stream",
     "text": [
      "/Users/egor/Library/Enthought/Canopy_32bit/User/lib/python2.7/site-packages/matplotlib/font_manager.py:273: UserWarning: Matplotlib is building the font cache using fc-list. This may take a moment.\n",
      "  warnings.warn('Matplotlib is building the font cache using fc-list. This may take a moment.')\n"
     ]
    }
   ],
   "source": [
    "import numpy as np\n",
    "import pandas as pd\n",
    "import matplotlib.pyplot as plt\n",
    "import seaborn as sns\n",
    "import os, glob\n",
    "from matplotlib import cm\n",
    "import psychopy\n",
    "from psychopy.tools.filetools import fromFile"
   ]
  },
  {
   "cell_type": "markdown",
   "metadata": {},
   "source": [
    "Loading the data:"
   ]
  },
  {
   "cell_type": "code",
   "execution_count": 3,
   "metadata": {
    "collapsed": false
   },
   "outputs": [
    {
     "name": "stdout",
     "output_type": "stream",
     "text": [
      "/Users/egor/Dropbox/Projects/mc/data/domTest\n",
      "['/Users/egor/Dropbox/Projects/mc/data/domTest/mc2_tgT-mcBv_dom_p0_s_2017-01-30_1546']\n"
     ]
    }
   ],
   "source": [
    "%matplotlib inline\n",
    "plt.style.use('dark_background')\n",
    "expName = 'mc2_tgT-mcBv_dom'\n",
    "#condName = 'mc2_tgT-mcBv_peri'\n",
    "dataDir = os.path.abspath(os.path.join(os.getcwd(), '..', '..', 'data/domTest/'))\n",
    "print dataDir\n",
    "allSubjDirs = glob.glob(dataDir + '/' + expName + '*')\n",
    "print allSubjDirs\n",
    "stairs = pd.DataFrame()\n",
    "# matrices for intensities, responses, and means of reversals:\n",
    "intns, resps, thisRevs, revMeans = [],[],[],[] \n",
    "orderInfo = pd.DataFrame() # subj, session, and stair info for ordering intns & resps"
   ]
  },
  {
   "cell_type": "code",
   "execution_count": 4,
   "metadata": {
    "collapsed": false
   },
   "outputs": [
    {
     "name": "stdout",
     "output_type": "stream",
     "text": [
      "/Users/egor/Dropbox/Projects/mc/data/domTest/mc2_tgT-mcBv_dom_p0_s_2017-01-30_1546\n"
     ]
    }
   ],
   "source": [
    "for subjDir in allSubjDirs:\n",
    "    print subjDir\n",
    "    subjStairsPath = glob.glob(subjDir + '/' + expName + '*.csv')[0]\n",
    "    subjStairs = pd.read_csv(subjStairsPath)\n",
    "    stairs = stairs.append(subjStairs)\n",
    "    #print subjStairs\n",
    "    for subjStairLabel in subjStairs['stairLabel']:\n",
    "        #print subjStairLabel #thisSubjStair['label']\n",
    "        thisStair = fromFile(subjDir + '/' + subjStairLabel + '.psydat')\n",
    "        intns.append(thisStair.intensities)\n",
    "        resps.append(thisStair.data)\n",
    "        theseRevIntns = thisStair.reversalIntensities #detectRevs(thisStair)\n",
    "        #print np.round(theseRevIntns,1)\n",
    "        revMeans.append([np.average(thisStair.reversalIntensities[-4:]),\n",
    "                         np.average(thisStair.reversalIntensities[-6:]),\n",
    "                         np.average(thisStair.reversalIntensities[-8:])])\n",
    "        orderInfo = orderInfo.append(pd.DataFrame({\n",
    "                    'participant': subjStairs.participant[0],\n",
    "                    'targEyeR': thisStair.extraInfo['targEyeR'],\n",
    "                    'stairStart': [thisStair.extraInfo['startContr']]\n",
    "                    }))\n",
    "                    #'sessionLabel': os.path.basename(subjStairsPath)[:-20],\n",
    "                    #'stairLabel': [subjStairLabel]\n",
    "        #print np.round(thisStair.intensities,2)\n",
    "        #print thisStair.data # responses (correct/incorrect)\n",
    "        #print thisStair.extraInfo"
   ]
  },
  {
   "cell_type": "code",
   "execution_count": 5,
   "metadata": {
    "collapsed": false
   },
   "outputs": [
    {
     "name": "stdout",
     "output_type": "stream",
     "text": [
      "(4, 30)\n",
      "Index([u'expName', u'expPara', u'time', u'participant', u'dom', u'session',\n",
      "       u'nRevs', u'mcSz', u'mcSf', u'mcBv', u'mcBsf', u'mcPeriGap',\n",
      "       u'mcPeriFade', u'targSz', u'targSf', u'targOri1', u'targOri2',\n",
      "       u'targXoff1', u'targXoff2', u'targYoff', u'targV', u'targTtot',\n",
      "       u'targTpeak', u'trialT', u'fixCross', u'stairLabel', u'stairStart',\n",
      "       u'meanRev6', u'targEyeR', u'condLabel'],\n",
      "      dtype='object')\n"
     ]
    },
    {
     "data": {
      "text/html": [
       "<div>\n",
       "<table border=\"1\" class=\"dataframe\">\n",
       "  <thead>\n",
       "    <tr style=\"text-align: right;\">\n",
       "      <th></th>\n",
       "      <th>expName</th>\n",
       "      <th>expPara</th>\n",
       "      <th>time</th>\n",
       "      <th>participant</th>\n",
       "      <th>dom</th>\n",
       "      <th>session</th>\n",
       "      <th>nRevs</th>\n",
       "      <th>mcSz</th>\n",
       "      <th>mcSf</th>\n",
       "      <th>mcBv</th>\n",
       "      <th>...</th>\n",
       "      <th>targV</th>\n",
       "      <th>targTtot</th>\n",
       "      <th>targTpeak</th>\n",
       "      <th>trialT</th>\n",
       "      <th>fixCross</th>\n",
       "      <th>stairLabel</th>\n",
       "      <th>stairStart</th>\n",
       "      <th>meanRev6</th>\n",
       "      <th>targEyeR</th>\n",
       "      <th>condLabel</th>\n",
       "    </tr>\n",
       "  </thead>\n",
       "  <tbody>\n",
       "    <tr>\n",
       "      <th>0</th>\n",
       "      <td>mc2_tgT-mcBv</td>\n",
       "      <td>dom</td>\n",
       "      <td>2017-01-30_1546</td>\n",
       "      <td>0</td>\n",
       "      <td>NaN</td>\n",
       "      <td>NaN</td>\n",
       "      <td>8</td>\n",
       "      <td>256</td>\n",
       "      <td>0.1</td>\n",
       "      <td>0.01</td>\n",
       "      <td>...</td>\n",
       "      <td>0</td>\n",
       "      <td>1</td>\n",
       "      <td>0.5</td>\n",
       "      <td>1</td>\n",
       "      <td>1</td>\n",
       "      <td>st0_mcBv0.01_targTpeak0.5_targEyeR1</td>\n",
       "      <td>0</td>\n",
       "      <td>-1.466667</td>\n",
       "      <td>1</td>\n",
       "      <td>targEyeR-1</td>\n",
       "    </tr>\n",
       "    <tr>\n",
       "      <th>1</th>\n",
       "      <td>mc2_tgT-mcBv</td>\n",
       "      <td>dom</td>\n",
       "      <td>2017-01-30_1546</td>\n",
       "      <td>0</td>\n",
       "      <td>NaN</td>\n",
       "      <td>NaN</td>\n",
       "      <td>8</td>\n",
       "      <td>256</td>\n",
       "      <td>0.1</td>\n",
       "      <td>0.01</td>\n",
       "      <td>...</td>\n",
       "      <td>0</td>\n",
       "      <td>1</td>\n",
       "      <td>0.5</td>\n",
       "      <td>1</td>\n",
       "      <td>1</td>\n",
       "      <td>st-3_mcBv0.01_targTpeak0.5_targEyeR1</td>\n",
       "      <td>-3</td>\n",
       "      <td>-1.533333</td>\n",
       "      <td>1</td>\n",
       "      <td>targEyeR-1</td>\n",
       "    </tr>\n",
       "    <tr>\n",
       "      <th>2</th>\n",
       "      <td>mc2_tgT-mcBv</td>\n",
       "      <td>dom</td>\n",
       "      <td>2017-01-30_1546</td>\n",
       "      <td>0</td>\n",
       "      <td>NaN</td>\n",
       "      <td>NaN</td>\n",
       "      <td>8</td>\n",
       "      <td>256</td>\n",
       "      <td>0.1</td>\n",
       "      <td>0.01</td>\n",
       "      <td>...</td>\n",
       "      <td>0</td>\n",
       "      <td>1</td>\n",
       "      <td>0.5</td>\n",
       "      <td>1</td>\n",
       "      <td>1</td>\n",
       "      <td>st0_mcBv0.01_targTpeak0.5_targEyeR0</td>\n",
       "      <td>0</td>\n",
       "      <td>-2.166667</td>\n",
       "      <td>0</td>\n",
       "      <td>targEyeR-0</td>\n",
       "    </tr>\n",
       "    <tr>\n",
       "      <th>3</th>\n",
       "      <td>mc2_tgT-mcBv</td>\n",
       "      <td>dom</td>\n",
       "      <td>2017-01-30_1546</td>\n",
       "      <td>0</td>\n",
       "      <td>NaN</td>\n",
       "      <td>NaN</td>\n",
       "      <td>8</td>\n",
       "      <td>256</td>\n",
       "      <td>0.1</td>\n",
       "      <td>0.01</td>\n",
       "      <td>...</td>\n",
       "      <td>0</td>\n",
       "      <td>1</td>\n",
       "      <td>0.5</td>\n",
       "      <td>1</td>\n",
       "      <td>1</td>\n",
       "      <td>st-3_mcBv0.01_targTpeak0.5_targEyeR0</td>\n",
       "      <td>-3</td>\n",
       "      <td>-3.766667</td>\n",
       "      <td>0</td>\n",
       "      <td>targEyeR-0</td>\n",
       "    </tr>\n",
       "  </tbody>\n",
       "</table>\n",
       "<p>4 rows × 30 columns</p>\n",
       "</div>"
      ],
      "text/plain": [
       "        expName expPara             time  participant  dom  session  nRevs  \\\n",
       "0  mc2_tgT-mcBv     dom  2017-01-30_1546            0  NaN      NaN      8   \n",
       "1  mc2_tgT-mcBv     dom  2017-01-30_1546            0  NaN      NaN      8   \n",
       "2  mc2_tgT-mcBv     dom  2017-01-30_1546            0  NaN      NaN      8   \n",
       "3  mc2_tgT-mcBv     dom  2017-01-30_1546            0  NaN      NaN      8   \n",
       "\n",
       "   mcSz  mcSf  mcBv     ...      targV  targTtot  targTpeak  trialT  fixCross  \\\n",
       "0   256   0.1  0.01     ...          0         1        0.5       1         1   \n",
       "1   256   0.1  0.01     ...          0         1        0.5       1         1   \n",
       "2   256   0.1  0.01     ...          0         1        0.5       1         1   \n",
       "3   256   0.1  0.01     ...          0         1        0.5       1         1   \n",
       "\n",
       "                             stairLabel  stairStart  meanRev6  targEyeR  \\\n",
       "0   st0_mcBv0.01_targTpeak0.5_targEyeR1           0 -1.466667         1   \n",
       "1  st-3_mcBv0.01_targTpeak0.5_targEyeR1          -3 -1.533333         1   \n",
       "2   st0_mcBv0.01_targTpeak0.5_targEyeR0           0 -2.166667         0   \n",
       "3  st-3_mcBv0.01_targTpeak0.5_targEyeR0          -3 -3.766667         0   \n",
       "\n",
       "    condLabel  \n",
       "0  targEyeR-1  \n",
       "1  targEyeR-1  \n",
       "2  targEyeR-0  \n",
       "3  targEyeR-0  \n",
       "\n",
       "[4 rows x 30 columns]"
      ]
     },
     "execution_count": 5,
     "metadata": {},
     "output_type": "execute_result"
    }
   ],
   "source": [
    "targEyeList = []\n",
    "for thisStairLabel in stairs.stairLabel: targEyeList.append(thisStairLabel[-1])\n",
    "stairs['targEyeR'] = targEyeList\n",
    "stairs['condLabel'] = 'targEyeR-' + stairs.targEyeR.astype(str)\n",
    "print stairs.shape\n",
    "print stairs.columns\n",
    "stairs.head(5)"
   ]
  },
  {
   "cell_type": "code",
   "execution_count": 6,
   "metadata": {
    "collapsed": false
   },
   "outputs": [
    {
     "name": "stdout",
     "output_type": "stream",
     "text": [
      "(4,)\n",
      "(4,)\n",
      "(4, 3)\n",
      "(4, 3)\n"
     ]
    },
    {
     "data": {
      "text/html": [
       "<div>\n",
       "<table border=\"1\" class=\"dataframe\">\n",
       "  <thead>\n",
       "    <tr style=\"text-align: right;\">\n",
       "      <th></th>\n",
       "      <th>participant</th>\n",
       "      <th>stairStart</th>\n",
       "      <th>targEyeR</th>\n",
       "    </tr>\n",
       "  </thead>\n",
       "  <tbody>\n",
       "    <tr>\n",
       "      <th>0</th>\n",
       "      <td>0</td>\n",
       "      <td>0</td>\n",
       "      <td>1</td>\n",
       "    </tr>\n",
       "    <tr>\n",
       "      <th>1</th>\n",
       "      <td>0</td>\n",
       "      <td>-3</td>\n",
       "      <td>1</td>\n",
       "    </tr>\n",
       "    <tr>\n",
       "      <th>2</th>\n",
       "      <td>0</td>\n",
       "      <td>0</td>\n",
       "      <td>0</td>\n",
       "    </tr>\n",
       "    <tr>\n",
       "      <th>3</th>\n",
       "      <td>0</td>\n",
       "      <td>-3</td>\n",
       "      <td>0</td>\n",
       "    </tr>\n",
       "  </tbody>\n",
       "</table>\n",
       "</div>"
      ],
      "text/plain": [
       "   participant  stairStart  targEyeR\n",
       "0            0           0         1\n",
       "1            0          -3         1\n",
       "2            0           0         0\n",
       "3            0          -3         0"
      ]
     },
     "execution_count": 6,
     "metadata": {},
     "output_type": "execute_result"
    }
   ],
   "source": [
    "print np.shape(resps)\n",
    "print np.shape(intns)\n",
    "print np.shape(revMeans)\n",
    "orderInfo = orderInfo.reset_index(drop=True)\n",
    "print orderInfo.shape\n",
    "orderInfo.head(5)"
   ]
  },
  {
   "cell_type": "markdown",
   "metadata": {},
   "source": [
    "Combining the trial data into a tall df."
   ]
  },
  {
   "cell_type": "code",
   "execution_count": 7,
   "metadata": {
    "collapsed": false,
    "scrolled": true
   },
   "outputs": [
    {
     "name": "stdout",
     "output_type": "stream",
     "text": [
      "(88, 3)\n",
      "   participant  stairStart  targEyeR  trialN  intns  resps\n",
      "0            0           0         1     1.0    0.0    1.0\n",
      "1            0           0         1     2.0   -1.0    1.0\n",
      "2            0           0         1     3.0   -2.0    0.0\n",
      "3            0           0         1     4.0   -1.0    1.0\n",
      "4            0           0         1     5.0   -1.0    1.0\n"
     ]
    }
   ],
   "source": [
    "nStairs = np.shape(resps)[0]\n",
    "nTrials = []\n",
    "for thisResp in resps: nTrials.append(np.shape(thisResp)[0])\n",
    "nTrialsMax = np.max(nTrials)\n",
    "allResps, allIntns = [], []\n",
    "for i in range(nStairs):\n",
    "    thisResp, thisIntn = resps[i], intns[i]\n",
    "    x, y = np.empty((nTrialsMax,)), np.empty((nTrialsMax,))\n",
    "    x[:], y[:] = np.NAN, np.NAN\n",
    "    x[0:nTrials[i]] = np.array(thisResp)\n",
    "    y[0:nTrials[i]] = np.array(thisIntn)\n",
    "    allResps.append(x)\n",
    "    allIntns.append(y)\n",
    "orderInfoRepd = orderInfo.loc[np.repeat(orderInfo.index.values,nTrialsMax)]\n",
    "print orderInfoRepd.shape\n",
    "orderInfoRepd = orderInfoRepd.reset_index(drop=True)\n",
    "orderInfoRepd['trialN'] = np.tile(np.linspace(1,nTrialsMax,nTrialsMax),nStairs)\n",
    "orderInfoRepd['intns'] = np.array(allIntns).flatten()\n",
    "orderInfoRepd['resps'] = np.array(allResps).flatten()\n",
    "print orderInfoRepd.head(5)"
   ]
  },
  {
   "cell_type": "code",
   "execution_count": 8,
   "metadata": {
    "collapsed": false
   },
   "outputs": [
    {
     "data": {
      "text/plain": [
       "<seaborn.axisgrid.FacetGrid at 0xb7b6970>"
      ]
     },
     "execution_count": 8,
     "metadata": {},
     "output_type": "execute_result"
    },
    {
     "data": {
      "image/png": "[encoded data removed]",
      "text/plain": [
       "<matplotlib.figure.Figure at 0xb7ae810>"
      ]
     },
     "metadata": {},
     "output_type": "display_data"
    }
   ],
   "source": [
    "g = sns.factorplot(x='trialN', y='intns', hue='stairStart', col='targEyeR', data=orderInfoRepd, \n",
    "               col_wrap=2, ci=None, scale=.7)\n",
    "g.set_axis_labels('Trial','Contrast')\n",
    "g.set(xticks=[])\n",
    "#plt.ylim(-0.1,1.1)"
   ]
  }
 ],
 "metadata": {
  "kernelspec": {
   "display_name": "Python 2",
   "language": "python",
   "name": "python2"
  },
  "language_info": {
   "codemirror_mode": {
    "name": "ipython",
    "version": 2
   },
   "file_extension": ".py",
   "mimetype": "text/x-python",
   "name": "python",
   "nbconvert_exporter": "python",
   "pygments_lexer": "ipython2",
   "version": "2.7.6"
  }
 },
 "nbformat": 4,
 "nbformat_minor": 1
}
